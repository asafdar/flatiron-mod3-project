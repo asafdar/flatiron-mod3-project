{
 "cells": [
  {
   "cell_type": "markdown",
   "metadata": {},
   "source": [
    "# Analysis of Air Pollution and Lung Cancer Rates"
   ]
  },
  {
   "cell_type": "markdown",
   "metadata": {},
   "source": [
    "### Indroduction:\n",
    "The purpose of our analysis is to determine if differing levels of air pollution have an effect on incidence of lung cancer. Our initial assumption was that higher levels of pollution do indeed have a positive correlation with lung cancer rates.\n",
    "\n",
    "We sourced our air pollution data from the EPA Air Quality System API. We looked at the levels of Carbon Monoxide, Nitrogen Dioxide, Ozone, Sulfur Dioxide, Lead, particulates smaller than 2.5 microns, and particulates between 2.5 and 10 microns. Each pollutant is measured in different units, but that is irrelevent since we are just looking at relationships.\n",
    "\n",
    "We pulled the lung cancer data from the CDC's Geographic Information Systems database. For the purposes of our analysis, we only looked at California, New York, Illinois, and Georgia. The incidence of lung cancer is measured in rate per 100,000. The rate is age-adjusted so that outliers due to age are taken into account. We used these data points to conduct our statistical tests to determine if we could draw any meaningful conclusions from them.\n",
    "\n",
    "The following figures will show the results of our investigation:"
   ]
  },
  {
   "cell_type": "markdown",
   "metadata": {},
   "source": [
    "### Results:\n",
    "\n",
    "![california_results](plots/ca_relations_by_param.png)\n",
    "Here you see the age-adjusted rate of cancer on the y-axis, and the arithmetic mean of pollutant levels on the x-axis. For most of the plots, you see a negative correlation between pollutant levels and lung cancer rates. Obviously, this does not make logical sesnse. We will discuss this further later on."
   ]
  },
  {
   "cell_type": "markdown",
   "metadata": {},
   "source": [
    "![newyork_results](plots/ny_relations_by_param.png)\n",
    "\n",
    "Again, you see a negative correlation in these visualizations. You will also notice that there are far fewer data points than in the previous plot."
   ]
  },
  {
   "cell_type": "markdown",
   "metadata": {},
   "source": [
    "![illinois_results](plots/il_relations_by_param.png)\n",
    "\n",
    "Interestingly, here you see mostly positive correlations. We will discuss the significance of this later."
   ]
  },
  {
   "cell_type": "markdown",
   "metadata": {},
   "source": [
    "![georgia_results](plots/ga_relations_by_param.png)\n",
    "\n",
    "We once again see mostly negative correlations.\n",
    "\n",
    "From our data, we have mixed results. It obviously doesn't make sense that exposure to pollutants would decrease one's likelihood of developing lung cancer. It also doesn't make sense that pollutants would be cancerous in Illinois but not in any other states. The reason we are getting these results is because our data is insufficient. You can see that some plots only have a handful of data points. It is therefore impossible to draw any meaningful conclusions from these results."
   ]
  },
  {
   "cell_type": "markdown",
   "metadata": {},
   "source": [
    "### Conclusion\n",
    "In conclusion, we recommend further study. With a larger subset of data, we might be able to derive more meaningful results."
   ]
  }
 ],
 "metadata": {
  "kernelspec": {
   "display_name": "Python [conda env:learn-env] *",
   "language": "python",
   "name": "conda-env-learn-env-py"
  },
  "language_info": {
   "codemirror_mode": {
    "name": "ipython",
    "version": 3
   },
   "file_extension": ".py",
   "mimetype": "text/x-python",
   "name": "python",
   "nbconvert_exporter": "python",
   "pygments_lexer": "ipython3",
   "version": "3.6.6"
  }
 },
 "nbformat": 4,
 "nbformat_minor": 2
}
