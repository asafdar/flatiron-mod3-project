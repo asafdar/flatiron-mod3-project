{
 "cells": [
  {
   "cell_type": "code",
   "execution_count": 4,
   "metadata": {},
   "outputs": [],
   "source": [
    "import pandas as pd\n",
    "import numpy as np\n",
    "from scipy import stats"
   ]
  },
  {
   "cell_type": "code",
   "execution_count": 6,
   "metadata": {},
   "outputs": [],
   "source": [
    "ca_aq_df = pd.read_csv('cleaned_data/ca_aq_data.csv')\n",
    "il_aq_df = pd.read_csv('cleaned_data/il_aq_data.csv')\n",
    "ny_aq_df = pd.read_csv('cleaned_data/ny_aq_data.csv')\n",
    "ga_aq_df = pd.read_csv('cleaned_data/ga_aq_data.csv')"
   ]
  },
  {
   "cell_type": "code",
   "execution_count": 7,
   "metadata": {},
   "outputs": [],
   "source": [
    "ca_aq_mean = ca_aq_df['arithmetic_mean'].mean()\n",
    "il_aq_mean = il_aq_df['arithmetic_mean'].mean()\n",
    "ny_aq_mean = ny_aq_df['arithmetic_mean'].mean()\n",
    "ga_aq_mean = ga_aq_df['arithmetic_mean'].mean()"
   ]
  },
  {
   "cell_type": "code",
   "execution_count": 9,
   "metadata": {},
   "outputs": [],
   "source": [
    "ca_cancer_rates = pd.read_csv('cleaned_data/ca_all_counties_cancer_rates.csv')\n",
    "il_cancer_rates = pd.read_csv('cleaned_data/il_all_counties_cancer_rates.csv')\n",
    "ny_cancer_rates = pd.read_csv('cleaned_data/ny_all_counties_cancer_rates.csv')\n",
    "ga_cancer_rates = pd.read_csv('cleaned_data/ga_all_counties_cancer_rates.csv')"
   ]
  },
  {
   "cell_type": "code",
   "execution_count": 10,
   "metadata": {},
   "outputs": [
    {
     "data": {
      "text/html": [
       "<div>\n",
       "<style scoped>\n",
       "    .dataframe tbody tr th:only-of-type {\n",
       "        vertical-align: middle;\n",
       "    }\n",
       "\n",
       "    .dataframe tbody tr th {\n",
       "        vertical-align: top;\n",
       "    }\n",
       "\n",
       "    .dataframe thead th {\n",
       "        text-align: right;\n",
       "    }\n",
       "</style>\n",
       "<table border=\"1\" class=\"dataframe\">\n",
       "  <thead>\n",
       "    <tr style=\"text-align: right;\">\n",
       "      <th></th>\n",
       "      <th>Unnamed: 0</th>\n",
       "      <th>County</th>\n",
       "      <th>Year</th>\n",
       "      <th>AgeAdjustedRate</th>\n",
       "      <th>CaseCount</th>\n",
       "      <th>Population</th>\n",
       "    </tr>\n",
       "  </thead>\n",
       "  <tbody>\n",
       "    <tr>\n",
       "      <th>0</th>\n",
       "      <td>0</td>\n",
       "      <td>Mono</td>\n",
       "      <td>2012-2016</td>\n",
       "      <td>25.9</td>\n",
       "      <td>20</td>\n",
       "      <td>70372</td>\n",
       "    </tr>\n",
       "    <tr>\n",
       "      <th>1</th>\n",
       "      <td>1</td>\n",
       "      <td>Marin</td>\n",
       "      <td>2012-2016</td>\n",
       "      <td>35.1</td>\n",
       "      <td>680</td>\n",
       "      <td>1299494</td>\n",
       "    </tr>\n",
       "    <tr>\n",
       "      <th>2</th>\n",
       "      <td>2</td>\n",
       "      <td>Monterey</td>\n",
       "      <td>2012-2016</td>\n",
       "      <td>36.8</td>\n",
       "      <td>763</td>\n",
       "      <td>2154029</td>\n",
       "    </tr>\n",
       "    <tr>\n",
       "      <th>3</th>\n",
       "      <td>3</td>\n",
       "      <td>Los Angeles</td>\n",
       "      <td>2012-2016</td>\n",
       "      <td>36.6</td>\n",
       "      <td>18307</td>\n",
       "      <td>50321257</td>\n",
       "    </tr>\n",
       "    <tr>\n",
       "      <th>4</th>\n",
       "      <td>4</td>\n",
       "      <td>Santa Cruz</td>\n",
       "      <td>2012-2016</td>\n",
       "      <td>37.0</td>\n",
       "      <td>538</td>\n",
       "      <td>1357213</td>\n",
       "    </tr>\n",
       "  </tbody>\n",
       "</table>\n",
       "</div>"
      ],
      "text/plain": [
       "   Unnamed: 0       County       Year  AgeAdjustedRate  CaseCount  Population\n",
       "0           0         Mono  2012-2016             25.9         20       70372\n",
       "1           1        Marin  2012-2016             35.1        680     1299494\n",
       "2           2     Monterey  2012-2016             36.8        763     2154029\n",
       "3           3  Los Angeles  2012-2016             36.6      18307    50321257\n",
       "4           4   Santa Cruz  2012-2016             37.0        538     1357213"
      ]
     },
     "execution_count": 10,
     "metadata": {},
     "output_type": "execute_result"
    }
   ],
   "source": [
    "ca_cancer_rates.head()"
   ]
  },
  {
   "cell_type": "code",
   "execution_count": 11,
   "metadata": {},
   "outputs": [],
   "source": [
    "cancer_rates = [ca_cancer_rates, il_cancer_rates, ny_cancer_rates, ga_cancer_rates]\n",
    "for i in cancer_rates:\n",
    "    i.drop(columns=['Unnamed: 0'], inplace=True)"
   ]
  },
  {
   "cell_type": "code",
   "execution_count": 12,
   "metadata": {},
   "outputs": [
    {
     "data": {
      "text/html": [
       "<div>\n",
       "<style scoped>\n",
       "    .dataframe tbody tr th:only-of-type {\n",
       "        vertical-align: middle;\n",
       "    }\n",
       "\n",
       "    .dataframe tbody tr th {\n",
       "        vertical-align: top;\n",
       "    }\n",
       "\n",
       "    .dataframe thead th {\n",
       "        text-align: right;\n",
       "    }\n",
       "</style>\n",
       "<table border=\"1\" class=\"dataframe\">\n",
       "  <thead>\n",
       "    <tr style=\"text-align: right;\">\n",
       "      <th></th>\n",
       "      <th>County</th>\n",
       "      <th>Year</th>\n",
       "      <th>AgeAdjustedRate</th>\n",
       "      <th>CaseCount</th>\n",
       "      <th>Population</th>\n",
       "    </tr>\n",
       "  </thead>\n",
       "  <tbody>\n",
       "    <tr>\n",
       "      <th>0</th>\n",
       "      <td>Mono</td>\n",
       "      <td>2012-2016</td>\n",
       "      <td>25.9</td>\n",
       "      <td>20</td>\n",
       "      <td>70372</td>\n",
       "    </tr>\n",
       "    <tr>\n",
       "      <th>1</th>\n",
       "      <td>Marin</td>\n",
       "      <td>2012-2016</td>\n",
       "      <td>35.1</td>\n",
       "      <td>680</td>\n",
       "      <td>1299494</td>\n",
       "    </tr>\n",
       "    <tr>\n",
       "      <th>2</th>\n",
       "      <td>Monterey</td>\n",
       "      <td>2012-2016</td>\n",
       "      <td>36.8</td>\n",
       "      <td>763</td>\n",
       "      <td>2154029</td>\n",
       "    </tr>\n",
       "    <tr>\n",
       "      <th>3</th>\n",
       "      <td>Los Angeles</td>\n",
       "      <td>2012-2016</td>\n",
       "      <td>36.6</td>\n",
       "      <td>18307</td>\n",
       "      <td>50321257</td>\n",
       "    </tr>\n",
       "    <tr>\n",
       "      <th>4</th>\n",
       "      <td>Santa Cruz</td>\n",
       "      <td>2012-2016</td>\n",
       "      <td>37.0</td>\n",
       "      <td>538</td>\n",
       "      <td>1357213</td>\n",
       "    </tr>\n",
       "  </tbody>\n",
       "</table>\n",
       "</div>"
      ],
      "text/plain": [
       "        County       Year  AgeAdjustedRate  CaseCount  Population\n",
       "0         Mono  2012-2016             25.9         20       70372\n",
       "1        Marin  2012-2016             35.1        680     1299494\n",
       "2     Monterey  2012-2016             36.8        763     2154029\n",
       "3  Los Angeles  2012-2016             36.6      18307    50321257\n",
       "4   Santa Cruz  2012-2016             37.0        538     1357213"
      ]
     },
     "execution_count": 12,
     "metadata": {},
     "output_type": "execute_result"
    }
   ],
   "source": [
    "ca_cancer_rates.head()"
   ]
  },
  {
   "cell_type": "code",
   "execution_count": 13,
   "metadata": {},
   "outputs": [],
   "source": [
    "ca_cancer_rate = list(ca_cancer_rates['AgeAdjustedRate'])"
   ]
  },
  {
   "cell_type": "code",
   "execution_count": 16,
   "metadata": {},
   "outputs": [],
   "source": [
    "ca_aq_ozone = list(ca_aq_df.loc[ca_aq_df.parameter == 'Ozone', 'arithmetic_mean'])"
   ]
  },
  {
   "cell_type": "code",
   "execution_count": 20,
   "metadata": {},
   "outputs": [
    {
     "data": {
      "text/plain": [
       "Ttest_indResult(statistic=-40.842553528287645, pvalue=7.905230952890071e-43)"
      ]
     },
     "execution_count": 20,
     "metadata": {},
     "output_type": "execute_result"
    }
   ],
   "source": [
    "stats.ttest_ind(ca_aq_ozone, ca_cancer_rate, equal_var=False)"
   ]
  },
  {
   "cell_type": "code",
   "execution_count": null,
   "metadata": {},
   "outputs": [],
   "source": []
  }
 ],
 "metadata": {
  "kernelspec": {
   "display_name": "Python [conda env:learn-env] *",
   "language": "python",
   "name": "conda-env-learn-env-py"
  },
  "language_info": {
   "codemirror_mode": {
    "name": "ipython",
    "version": 3
   },
   "file_extension": ".py",
   "mimetype": "text/x-python",
   "name": "python",
   "nbconvert_exporter": "python",
   "pygments_lexer": "ipython3",
   "version": "3.6.6"
  }
 },
 "nbformat": 4,
 "nbformat_minor": 2
}
