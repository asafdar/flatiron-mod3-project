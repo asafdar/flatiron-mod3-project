{
 "cells": [
  {
   "cell_type": "markdown",
   "metadata": {},
   "source": [
    "## Data Analysis\n",
    "This interactive notebook handles the analysis and visualizations of data, including automated hypothesis testing. First, we need to get our data from the EPA website. To do so, we should start by importing some of our required libraries."
   ]
  },
  {
   "cell_type": "code",
   "execution_count": 1,
   "metadata": {},
   "outputs": [],
   "source": [
    "from pyaqs import AQSFetcher\n",
    "import pandas as pd"
   ]
  },
  {
   "cell_type": "markdown",
   "metadata": {},
   "source": [
    "Now, we will instantiate a new AQSFetcher object and use it to get the required data from the EPA website. For now, we will focus our attention on counties within Illinois, the state where we currently reside. To do so, we will use some of the custom defined methods to get the appropriate identification codes for the necessary locations and parameters.\n",
    "\n",
    "To note, in this context, a *parameter* is a compound that in the air that can be measured. The EPA has many such parameters, sorted into different classes whose descriptions are easily accessible through the API."
   ]
  },
  {
   "cell_type": "code",
   "execution_count": 2,
   "metadata": {},
   "outputs": [],
   "source": [
    "aqs_fetcher = AQSFetcher('bbjornstad.flatiron@gmail.com', 'ochrefox21')"
   ]
  },
  {
   "cell_type": "code",
   "execution_count": 4,
   "metadata": {},
   "outputs": [
    {
     "data": {
      "text/html": [
       "<div>\n",
       "<style scoped>\n",
       "    .dataframe tbody tr th:only-of-type {\n",
       "        vertical-align: middle;\n",
       "    }\n",
       "\n",
       "    .dataframe tbody tr th {\n",
       "        vertical-align: top;\n",
       "    }\n",
       "\n",
       "    .dataframe thead th {\n",
       "        text-align: right;\n",
       "    }\n",
       "</style>\n",
       "<table border=\"1\" class=\"dataframe\">\n",
       "  <thead>\n",
       "    <tr style=\"text-align: right;\">\n",
       "      <th></th>\n",
       "      <th>code</th>\n",
       "      <th>state_name</th>\n",
       "    </tr>\n",
       "  </thead>\n",
       "  <tbody>\n",
       "    <tr>\n",
       "      <td>0</td>\n",
       "      <td>01</td>\n",
       "      <td>Alabama</td>\n",
       "    </tr>\n",
       "    <tr>\n",
       "      <td>1</td>\n",
       "      <td>02</td>\n",
       "      <td>Alaska</td>\n",
       "    </tr>\n",
       "    <tr>\n",
       "      <td>2</td>\n",
       "      <td>04</td>\n",
       "      <td>Arizona</td>\n",
       "    </tr>\n",
       "    <tr>\n",
       "      <td>3</td>\n",
       "      <td>05</td>\n",
       "      <td>Arkansas</td>\n",
       "    </tr>\n",
       "    <tr>\n",
       "      <td>4</td>\n",
       "      <td>06</td>\n",
       "      <td>California</td>\n",
       "    </tr>\n",
       "  </tbody>\n",
       "</table>\n",
       "</div>"
      ],
      "text/plain": [
       "  code  state_name\n",
       "0   01     Alabama\n",
       "1   02      Alaska\n",
       "2   04     Arizona\n",
       "3   05    Arkansas\n",
       "4   06  California"
      ]
     },
     "execution_count": 4,
     "metadata": {},
     "output_type": "execute_result"
    }
   ],
   "source": [
    "state_codes = aqs_fetcher.get_state_codes()\n",
    "state_codes.head()"
   ]
  },
  {
   "cell_type": "markdown",
   "metadata": {},
   "source": [
    "Let's store the code for Illinois in a variable for easy access."
   ]
  },
  {
   "cell_type": "code",
   "execution_count": 6,
   "metadata": {},
   "outputs": [
    {
     "data": {
      "text/plain": [
       "'17'"
      ]
     },
     "execution_count": 6,
     "metadata": {},
     "output_type": "execute_result"
    }
   ],
   "source": [
    "il_code = state_codes.loc[state_codes.state_name == 'Illinois', 'code'].values[0]\n",
    "il_code"
   ]
  },
  {
   "cell_type": "markdown",
   "metadata": {},
   "source": [
    "And now we will get a list of codes for the counties within Illinois."
   ]
  },
  {
   "cell_type": "code",
   "execution_count": 7,
   "metadata": {},
   "outputs": [
    {
     "data": {
      "text/html": [
       "<div>\n",
       "<style scoped>\n",
       "    .dataframe tbody tr th:only-of-type {\n",
       "        vertical-align: middle;\n",
       "    }\n",
       "\n",
       "    .dataframe tbody tr th {\n",
       "        vertical-align: top;\n",
       "    }\n",
       "\n",
       "    .dataframe thead th {\n",
       "        text-align: right;\n",
       "    }\n",
       "</style>\n",
       "<table border=\"1\" class=\"dataframe\">\n",
       "  <thead>\n",
       "    <tr style=\"text-align: right;\">\n",
       "      <th></th>\n",
       "      <th>code</th>\n",
       "      <th>county_name</th>\n",
       "    </tr>\n",
       "  </thead>\n",
       "  <tbody>\n",
       "    <tr>\n",
       "      <td>0</td>\n",
       "      <td>001</td>\n",
       "      <td>Adams</td>\n",
       "    </tr>\n",
       "    <tr>\n",
       "      <td>1</td>\n",
       "      <td>003</td>\n",
       "      <td>Alexander</td>\n",
       "    </tr>\n",
       "    <tr>\n",
       "      <td>2</td>\n",
       "      <td>005</td>\n",
       "      <td>Bond</td>\n",
       "    </tr>\n",
       "    <tr>\n",
       "      <td>3</td>\n",
       "      <td>007</td>\n",
       "      <td>Boone</td>\n",
       "    </tr>\n",
       "    <tr>\n",
       "      <td>4</td>\n",
       "      <td>009</td>\n",
       "      <td>Brown</td>\n",
       "    </tr>\n",
       "  </tbody>\n",
       "</table>\n",
       "</div>"
      ],
      "text/plain": [
       "  code county_name\n",
       "0  001       Adams\n",
       "1  003   Alexander\n",
       "2  005        Bond\n",
       "3  007       Boone\n",
       "4  009       Brown"
      ]
     },
     "execution_count": 7,
     "metadata": {},
     "output_type": "execute_result"
    }
   ],
   "source": [
    "il_county_codes = aqs_fetcher.get_counties_by_state(il_code)\n",
    "il_county_codes.head()"
   ]
  },
  {
   "cell_type": "markdown",
   "metadata": {},
   "source": [
    "Finally, let's take a look at the possible parameter classes and identify a set that seems reasonable for analysis."
   ]
  },
  {
   "cell_type": "code",
   "execution_count": 9,
   "metadata": {},
   "outputs": [
    {
     "data": {
      "text/html": [
       "<div>\n",
       "<style scoped>\n",
       "    .dataframe tbody tr th:only-of-type {\n",
       "        vertical-align: middle;\n",
       "    }\n",
       "\n",
       "    .dataframe tbody tr th {\n",
       "        vertical-align: top;\n",
       "    }\n",
       "\n",
       "    .dataframe thead th {\n",
       "        text-align: right;\n",
       "    }\n",
       "</style>\n",
       "<table border=\"1\" class=\"dataframe\">\n",
       "  <thead>\n",
       "    <tr style=\"text-align: right;\">\n",
       "      <th></th>\n",
       "      <th>class_name</th>\n",
       "      <th>class_description</th>\n",
       "    </tr>\n",
       "  </thead>\n",
       "  <tbody>\n",
       "    <tr>\n",
       "      <td>0</td>\n",
       "      <td>AIRNOW MAPS</td>\n",
       "      <td>The parameters represented on AirNow maps (881...</td>\n",
       "    </tr>\n",
       "    <tr>\n",
       "      <td>1</td>\n",
       "      <td>ALL</td>\n",
       "      <td>Select all Parameters Available</td>\n",
       "    </tr>\n",
       "    <tr>\n",
       "      <td>2</td>\n",
       "      <td>AQI POLLUTANTS</td>\n",
       "      <td>Pollutants that have an AQI Defined</td>\n",
       "    </tr>\n",
       "    <tr>\n",
       "      <td>3</td>\n",
       "      <td>CORE_HAPS</td>\n",
       "      <td>Urban Air Toxic Pollutants</td>\n",
       "    </tr>\n",
       "    <tr>\n",
       "      <td>4</td>\n",
       "      <td>CRITERIA</td>\n",
       "      <td>Criteria Pollutants</td>\n",
       "    </tr>\n",
       "    <tr>\n",
       "      <td>5</td>\n",
       "      <td>CSN DART</td>\n",
       "      <td>List of CSN speciation parameters to populate ...</td>\n",
       "    </tr>\n",
       "    <tr>\n",
       "      <td>6</td>\n",
       "      <td>FORECAST</td>\n",
       "      <td>Parameters routinely extracted by AirNow (STI)</td>\n",
       "    </tr>\n",
       "    <tr>\n",
       "      <td>7</td>\n",
       "      <td>HAPS</td>\n",
       "      <td>Hazardous Air Pollutants</td>\n",
       "    </tr>\n",
       "    <tr>\n",
       "      <td>8</td>\n",
       "      <td>IMPROVE CARBON</td>\n",
       "      <td>IMPROVE Carbon Parameters</td>\n",
       "    </tr>\n",
       "    <tr>\n",
       "      <td>9</td>\n",
       "      <td>IMPROVE_SPECIATION</td>\n",
       "      <td>PM2.5 Speciated Parameters Measured at IMPROVE...</td>\n",
       "    </tr>\n",
       "    <tr>\n",
       "      <td>10</td>\n",
       "      <td>MET</td>\n",
       "      <td>Meteorologic Parameters</td>\n",
       "    </tr>\n",
       "    <tr>\n",
       "      <td>11</td>\n",
       "      <td>NATTS CORE HAPS</td>\n",
       "      <td>The core list of toxics of interest to the NAT...</td>\n",
       "    </tr>\n",
       "    <tr>\n",
       "      <td>12</td>\n",
       "      <td>NATTS REQUIRED</td>\n",
       "      <td>Required compounds to be collected in the Nati...</td>\n",
       "    </tr>\n",
       "    <tr>\n",
       "      <td>13</td>\n",
       "      <td>PAMS</td>\n",
       "      <td>Photochemical Assessment Monitoring System</td>\n",
       "    </tr>\n",
       "    <tr>\n",
       "      <td>14</td>\n",
       "      <td>PAMS_VOC</td>\n",
       "      <td>Volatile Organic Compound subset of the PAMS P...</td>\n",
       "    </tr>\n",
       "    <tr>\n",
       "      <td>15</td>\n",
       "      <td>PM COARSE</td>\n",
       "      <td>PM between 2.5 and 10 micrometers</td>\n",
       "    </tr>\n",
       "    <tr>\n",
       "      <td>16</td>\n",
       "      <td>PM10 SPECIATION</td>\n",
       "      <td>PM10 Speciated Parameters</td>\n",
       "    </tr>\n",
       "    <tr>\n",
       "      <td>17</td>\n",
       "      <td>PM2.5 CONT NONREF</td>\n",
       "      <td>PM2.5 Continuous, Nonreference Methods</td>\n",
       "    </tr>\n",
       "    <tr>\n",
       "      <td>18</td>\n",
       "      <td>PM2.5 MASS/QA</td>\n",
       "      <td>PM2.5 Mass and QA Parameters</td>\n",
       "    </tr>\n",
       "    <tr>\n",
       "      <td>19</td>\n",
       "      <td>SCHOOL AIR TOXICS</td>\n",
       "      <td>School Air Toxics Program</td>\n",
       "    </tr>\n",
       "    <tr>\n",
       "      <td>20</td>\n",
       "      <td>SPECIATION</td>\n",
       "      <td>PM2.5 Speciated Parameters</td>\n",
       "    </tr>\n",
       "    <tr>\n",
       "      <td>21</td>\n",
       "      <td>SPECIATION CARBON</td>\n",
       "      <td>PM2.5 Speciation Carbon Pollutants</td>\n",
       "    </tr>\n",
       "    <tr>\n",
       "      <td>22</td>\n",
       "      <td>SPECIATION CATION/ANION</td>\n",
       "      <td>PM2.5 Speciation Cation/Anion Pollutants</td>\n",
       "    </tr>\n",
       "    <tr>\n",
       "      <td>23</td>\n",
       "      <td>SPECIATION METALS</td>\n",
       "      <td>PM2.5 Speciation Metals Pollutants</td>\n",
       "    </tr>\n",
       "    <tr>\n",
       "      <td>24</td>\n",
       "      <td>UATMP CARBONYL</td>\n",
       "      <td>Urban Air Toxics Monitoring Program Carbonyls</td>\n",
       "    </tr>\n",
       "    <tr>\n",
       "      <td>25</td>\n",
       "      <td>UATMP VOC</td>\n",
       "      <td>Urban Air Toxics Monitoring Program VOCs</td>\n",
       "    </tr>\n",
       "  </tbody>\n",
       "</table>\n",
       "</div>"
      ],
      "text/plain": [
       "                 class_name                                  class_description\n",
       "0               AIRNOW MAPS  The parameters represented on AirNow maps (881...\n",
       "1                       ALL                    Select all Parameters Available\n",
       "2            AQI POLLUTANTS                Pollutants that have an AQI Defined\n",
       "3                 CORE_HAPS                         Urban Air Toxic Pollutants\n",
       "4                  CRITERIA                                Criteria Pollutants\n",
       "5                  CSN DART  List of CSN speciation parameters to populate ...\n",
       "6                  FORECAST     Parameters routinely extracted by AirNow (STI)\n",
       "7                      HAPS                           Hazardous Air Pollutants\n",
       "8            IMPROVE CARBON                          IMPROVE Carbon Parameters\n",
       "9        IMPROVE_SPECIATION  PM2.5 Speciated Parameters Measured at IMPROVE...\n",
       "10                      MET                            Meteorologic Parameters\n",
       "11          NATTS CORE HAPS  The core list of toxics of interest to the NAT...\n",
       "12           NATTS REQUIRED  Required compounds to be collected in the Nati...\n",
       "13                     PAMS         Photochemical Assessment Monitoring System\n",
       "14                 PAMS_VOC  Volatile Organic Compound subset of the PAMS P...\n",
       "15                PM COARSE                  PM between 2.5 and 10 micrometers\n",
       "16          PM10 SPECIATION                          PM10 Speciated Parameters\n",
       "17        PM2.5 CONT NONREF             PM2.5 Continuous, Nonreference Methods\n",
       "18            PM2.5 MASS/QA                       PM2.5 Mass and QA Parameters\n",
       "19        SCHOOL AIR TOXICS                          School Air Toxics Program\n",
       "20               SPECIATION                         PM2.5 Speciated Parameters\n",
       "21        SPECIATION CARBON                 PM2.5 Speciation Carbon Pollutants\n",
       "22  SPECIATION CATION/ANION           PM2.5 Speciation Cation/Anion Pollutants\n",
       "23        SPECIATION METALS                 PM2.5 Speciation Metals Pollutants\n",
       "24           UATMP CARBONYL      Urban Air Toxics Monitoring Program Carbonyls\n",
       "25                UATMP VOC           Urban Air Toxics Monitoring Program VOCs"
      ]
     },
     "execution_count": 9,
     "metadata": {},
     "output_type": "execute_result"
    }
   ],
   "source": [
    "aqs_fetcher.get_parameter_classes()"
   ]
  },
  {
   "cell_type": "markdown",
   "metadata": {},
   "source": [
    "We are most interested in those parameters held in the CRITERIA class, as indicated by the description. In particular, this class defines pollutants that the EPA has determined to be suitable criteria for overall air quality."
   ]
  },
  {
   "cell_type": "code",
   "execution_count": 11,
   "metadata": {},
   "outputs": [
    {
     "data": {
      "text/html": [
       "<div>\n",
       "<style scoped>\n",
       "    .dataframe tbody tr th:only-of-type {\n",
       "        vertical-align: middle;\n",
       "    }\n",
       "\n",
       "    .dataframe tbody tr th {\n",
       "        vertical-align: top;\n",
       "    }\n",
       "\n",
       "    .dataframe thead th {\n",
       "        text-align: right;\n",
       "    }\n",
       "</style>\n",
       "<table border=\"1\" class=\"dataframe\">\n",
       "  <thead>\n",
       "    <tr style=\"text-align: right;\">\n",
       "      <th></th>\n",
       "      <th>code</th>\n",
       "      <th>parameter_description</th>\n",
       "    </tr>\n",
       "  </thead>\n",
       "  <tbody>\n",
       "    <tr>\n",
       "      <td>0</td>\n",
       "      <td>14129</td>\n",
       "      <td>Lead (TSP) LC</td>\n",
       "    </tr>\n",
       "    <tr>\n",
       "      <td>1</td>\n",
       "      <td>42101</td>\n",
       "      <td>Carbon monoxide</td>\n",
       "    </tr>\n",
       "    <tr>\n",
       "      <td>2</td>\n",
       "      <td>42401</td>\n",
       "      <td>Sulfur dioxide</td>\n",
       "    </tr>\n",
       "    <tr>\n",
       "      <td>3</td>\n",
       "      <td>42602</td>\n",
       "      <td>Nitrogen dioxide (NO2)</td>\n",
       "    </tr>\n",
       "    <tr>\n",
       "      <td>4</td>\n",
       "      <td>44201</td>\n",
       "      <td>Ozone</td>\n",
       "    </tr>\n",
       "    <tr>\n",
       "      <td>5</td>\n",
       "      <td>81102</td>\n",
       "      <td>PM10 Total 0-10um STP</td>\n",
       "    </tr>\n",
       "    <tr>\n",
       "      <td>6</td>\n",
       "      <td>85129</td>\n",
       "      <td>Lead PM10 LC FRM/FEM</td>\n",
       "    </tr>\n",
       "    <tr>\n",
       "      <td>7</td>\n",
       "      <td>88101</td>\n",
       "      <td>PM2.5 - Local Conditions</td>\n",
       "    </tr>\n",
       "  </tbody>\n",
       "</table>\n",
       "</div>"
      ],
      "text/plain": [
       "    code     parameter_description\n",
       "0  14129             Lead (TSP) LC\n",
       "1  42101           Carbon monoxide\n",
       "2  42401            Sulfur dioxide\n",
       "3  42602    Nitrogen dioxide (NO2)\n",
       "4  44201                     Ozone\n",
       "5  81102     PM10 Total 0-10um STP\n",
       "6  85129      Lead PM10 LC FRM/FEM\n",
       "7  88101  PM2.5 - Local Conditions"
      ]
     },
     "execution_count": 11,
     "metadata": {},
     "output_type": "execute_result"
    }
   ],
   "source": [
    "parameter_codes = aqs_fetcher.get_parameter_list_by_class('CRITERIA')\n",
    "parameter_codes"
   ]
  },
  {
   "cell_type": "markdown",
   "metadata": {},
   "source": [
    "Fantastic, these will allow us the possibility to easily partition and query the data that we need to continue with the analysis."
   ]
  },
  {
   "cell_type": "code",
   "execution_count": null,
   "metadata": {},
   "outputs": [],
   "source": []
  }
 ],
 "metadata": {
  "kernelspec": {
   "display_name": "Python [conda env:learn-env] *",
   "language": "python",
   "name": "conda-env-learn-env-py"
  },
  "language_info": {
   "codemirror_mode": {
    "name": "ipython",
    "version": 3
   },
   "file_extension": ".py",
   "mimetype": "text/x-python",
   "name": "python",
   "nbconvert_exporter": "python",
   "pygments_lexer": "ipython3",
   "version": "3.6.9"
  }
 },
 "nbformat": 4,
 "nbformat_minor": 4
}
