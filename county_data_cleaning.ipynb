{
 "cells": [
  {
   "cell_type": "markdown",
   "metadata": {},
   "source": [
    "## Cleaning Lung Disease Data for County Analysis\n",
    "In this interactive notebook, we will take a look at the process of cleaning up some of our cancer data for use in analysis by county."
   ]
  },
  {
   "cell_type": "code",
   "execution_count": 1,
   "metadata": {},
   "outputs": [],
   "source": [
    "import pandas as pd"
   ]
  },
  {
   "cell_type": "code",
   "execution_count": 13,
   "metadata": {},
   "outputs": [],
   "source": [
    "cancer_county = pd.read_csv('data/USCS_StateCountyMap.csv')"
   ]
  },
  {
   "cell_type": "code",
   "execution_count": 14,
   "metadata": {},
   "outputs": [
    {
     "data": {
      "text/html": [
       "<div>\n",
       "<style scoped>\n",
       "    .dataframe tbody tr th:only-of-type {\n",
       "        vertical-align: middle;\n",
       "    }\n",
       "\n",
       "    .dataframe tbody tr th {\n",
       "        vertical-align: top;\n",
       "    }\n",
       "\n",
       "    .dataframe thead th {\n",
       "        text-align: right;\n",
       "    }\n",
       "</style>\n",
       "<table border=\"1\" class=\"dataframe\">\n",
       "  <thead>\n",
       "    <tr style=\"text-align: right;\">\n",
       "      <th></th>\n",
       "      <th>County</th>\n",
       "      <th>Year</th>\n",
       "      <th>AgeAdjustedRate</th>\n",
       "      <th>CaseCount</th>\n",
       "      <th>Population</th>\n",
       "    </tr>\n",
       "  </thead>\n",
       "  <tbody>\n",
       "    <tr>\n",
       "      <td>0</td>\n",
       "      <td>'Kane County'</td>\n",
       "      <td>'2012-2016'</td>\n",
       "      <td>'51.2'</td>\n",
       "      <td>'1298'</td>\n",
       "      <td>'2633345'</td>\n",
       "    </tr>\n",
       "    <tr>\n",
       "      <td>1</td>\n",
       "      <td>'DuPage County'</td>\n",
       "      <td>'2012-2016'</td>\n",
       "      <td>'51.8'</td>\n",
       "      <td>'2643'</td>\n",
       "      <td>'4657275'</td>\n",
       "    </tr>\n",
       "    <tr>\n",
       "      <td>2</td>\n",
       "      <td>'Champaign County'</td>\n",
       "      <td>'2012-2016'</td>\n",
       "      <td>'52.8'</td>\n",
       "      <td>'499'</td>\n",
       "      <td>'1034430'</td>\n",
       "    </tr>\n",
       "    <tr>\n",
       "      <td>3</td>\n",
       "      <td>'Woodford County'</td>\n",
       "      <td>'2012-2016'</td>\n",
       "      <td>'54.8'</td>\n",
       "      <td>'135'</td>\n",
       "      <td>'194822'</td>\n",
       "    </tr>\n",
       "    <tr>\n",
       "      <td>4</td>\n",
       "      <td>'Stephenson County'</td>\n",
       "      <td>'2012-2016'</td>\n",
       "      <td>'52.4'</td>\n",
       "      <td>'186'</td>\n",
       "      <td>'231025'</td>\n",
       "    </tr>\n",
       "  </tbody>\n",
       "</table>\n",
       "</div>"
      ],
      "text/plain": [
       "                County         Year AgeAdjustedRate CaseCount Population\n",
       "0        'Kane County'  '2012-2016'          '51.2'    '1298'  '2633345'\n",
       "1      'DuPage County'  '2012-2016'          '51.8'    '2643'  '4657275'\n",
       "2   'Champaign County'  '2012-2016'          '52.8'     '499'  '1034430'\n",
       "3    'Woodford County'  '2012-2016'          '54.8'     '135'   '194822'\n",
       "4  'Stephenson County'  '2012-2016'          '52.4'     '186'   '231025'"
      ]
     },
     "execution_count": 14,
     "metadata": {},
     "output_type": "execute_result"
    }
   ],
   "source": [
    "cancer_county.drop(columns=['lci', 'uci', 'Sex', 'Area', 'CancerType'], inplace=True)\n",
    "cancer_county.head()"
   ]
  },
  {
   "cell_type": "code",
   "execution_count": 15,
   "metadata": {},
   "outputs": [
    {
     "data": {
      "text/html": [
       "<div>\n",
       "<style scoped>\n",
       "    .dataframe tbody tr th:only-of-type {\n",
       "        vertical-align: middle;\n",
       "    }\n",
       "\n",
       "    .dataframe tbody tr th {\n",
       "        vertical-align: top;\n",
       "    }\n",
       "\n",
       "    .dataframe thead th {\n",
       "        text-align: right;\n",
       "    }\n",
       "</style>\n",
       "<table border=\"1\" class=\"dataframe\">\n",
       "  <thead>\n",
       "    <tr style=\"text-align: right;\">\n",
       "      <th></th>\n",
       "      <th>County</th>\n",
       "      <th>Year</th>\n",
       "      <th>AgeAdjustedRate</th>\n",
       "      <th>CaseCount</th>\n",
       "      <th>Population</th>\n",
       "    </tr>\n",
       "  </thead>\n",
       "  <tbody>\n",
       "    <tr>\n",
       "      <td>0</td>\n",
       "      <td>Kane County</td>\n",
       "      <td>2012-2016</td>\n",
       "      <td>51.2</td>\n",
       "      <td>1298</td>\n",
       "      <td>2633345</td>\n",
       "    </tr>\n",
       "    <tr>\n",
       "      <td>1</td>\n",
       "      <td>DuPage County</td>\n",
       "      <td>2012-2016</td>\n",
       "      <td>51.8</td>\n",
       "      <td>2643</td>\n",
       "      <td>4657275</td>\n",
       "    </tr>\n",
       "    <tr>\n",
       "      <td>2</td>\n",
       "      <td>Champaign County</td>\n",
       "      <td>2012-2016</td>\n",
       "      <td>52.8</td>\n",
       "      <td>499</td>\n",
       "      <td>1034430</td>\n",
       "    </tr>\n",
       "    <tr>\n",
       "      <td>3</td>\n",
       "      <td>Woodford County</td>\n",
       "      <td>2012-2016</td>\n",
       "      <td>54.8</td>\n",
       "      <td>135</td>\n",
       "      <td>194822</td>\n",
       "    </tr>\n",
       "    <tr>\n",
       "      <td>4</td>\n",
       "      <td>Stephenson County</td>\n",
       "      <td>2012-2016</td>\n",
       "      <td>52.4</td>\n",
       "      <td>186</td>\n",
       "      <td>231025</td>\n",
       "    </tr>\n",
       "  </tbody>\n",
       "</table>\n",
       "</div>"
      ],
      "text/plain": [
       "              County       Year AgeAdjustedRate CaseCount Population\n",
       "0        Kane County  2012-2016            51.2      1298    2633345\n",
       "1      DuPage County  2012-2016            51.8      2643    4657275\n",
       "2   Champaign County  2012-2016            52.8       499    1034430\n",
       "3    Woodford County  2012-2016            54.8       135     194822\n",
       "4  Stephenson County  2012-2016            52.4       186     231025"
      ]
     },
     "execution_count": 15,
     "metadata": {},
     "output_type": "execute_result"
    }
   ],
   "source": [
    "cancer_county = cancer_county.applymap(lambda s: s[1:-1])\n",
    "cancer_county.head()"
   ]
  },
  {
   "cell_type": "code",
   "execution_count": 19,
   "metadata": {},
   "outputs": [],
   "source": [
    "cancer_county.AgeAdjustedRate = cancer_county.AgeAdjustedRate.astype(float)\n",
    "cancer_county.CaseCount = cancer_county.CaseCount.astype(int)\n",
    "cancer_county.Population = cancer_county.Population.astype(int)\n",
    "cancer_county.County = cancer_county.County.apply(lambda s: s.replace(' County', ''))"
   ]
  },
  {
   "cell_type": "code",
   "execution_count": 20,
   "metadata": {},
   "outputs": [
    {
     "data": {
      "text/html": [
       "<div>\n",
       "<style scoped>\n",
       "    .dataframe tbody tr th:only-of-type {\n",
       "        vertical-align: middle;\n",
       "    }\n",
       "\n",
       "    .dataframe tbody tr th {\n",
       "        vertical-align: top;\n",
       "    }\n",
       "\n",
       "    .dataframe thead th {\n",
       "        text-align: right;\n",
       "    }\n",
       "</style>\n",
       "<table border=\"1\" class=\"dataframe\">\n",
       "  <thead>\n",
       "    <tr style=\"text-align: right;\">\n",
       "      <th></th>\n",
       "      <th>County</th>\n",
       "      <th>Year</th>\n",
       "      <th>AgeAdjustedRate</th>\n",
       "      <th>CaseCount</th>\n",
       "      <th>Population</th>\n",
       "    </tr>\n",
       "  </thead>\n",
       "  <tbody>\n",
       "    <tr>\n",
       "      <td>0</td>\n",
       "      <td>Kane</td>\n",
       "      <td>2012-2016</td>\n",
       "      <td>51.2</td>\n",
       "      <td>1298</td>\n",
       "      <td>2633345</td>\n",
       "    </tr>\n",
       "    <tr>\n",
       "      <td>1</td>\n",
       "      <td>DuPage</td>\n",
       "      <td>2012-2016</td>\n",
       "      <td>51.8</td>\n",
       "      <td>2643</td>\n",
       "      <td>4657275</td>\n",
       "    </tr>\n",
       "    <tr>\n",
       "      <td>2</td>\n",
       "      <td>Champaign</td>\n",
       "      <td>2012-2016</td>\n",
       "      <td>52.8</td>\n",
       "      <td>499</td>\n",
       "      <td>1034430</td>\n",
       "    </tr>\n",
       "    <tr>\n",
       "      <td>3</td>\n",
       "      <td>Woodford</td>\n",
       "      <td>2012-2016</td>\n",
       "      <td>54.8</td>\n",
       "      <td>135</td>\n",
       "      <td>194822</td>\n",
       "    </tr>\n",
       "    <tr>\n",
       "      <td>4</td>\n",
       "      <td>Stephenson</td>\n",
       "      <td>2012-2016</td>\n",
       "      <td>52.4</td>\n",
       "      <td>186</td>\n",
       "      <td>231025</td>\n",
       "    </tr>\n",
       "  </tbody>\n",
       "</table>\n",
       "</div>"
      ],
      "text/plain": [
       "       County       Year  AgeAdjustedRate  CaseCount  Population\n",
       "0        Kane  2012-2016             51.2       1298     2633345\n",
       "1      DuPage  2012-2016             51.8       2643     4657275\n",
       "2   Champaign  2012-2016             52.8        499     1034430\n",
       "3    Woodford  2012-2016             54.8        135      194822\n",
       "4  Stephenson  2012-2016             52.4        186      231025"
      ]
     },
     "execution_count": 20,
     "metadata": {},
     "output_type": "execute_result"
    }
   ],
   "source": [
    "cancer_county.head()"
   ]
  },
  {
   "cell_type": "code",
   "execution_count": 22,
   "metadata": {},
   "outputs": [
    {
     "data": {
      "text/plain": [
       "(102, 5)"
      ]
     },
     "execution_count": 22,
     "metadata": {},
     "output_type": "execute_result"
    }
   ],
   "source": [
    "cancer_county.shape"
   ]
  },
  {
   "cell_type": "code",
   "execution_count": 21,
   "metadata": {},
   "outputs": [
    {
     "data": {
      "text/plain": [
       "County              object\n",
       "Year                object\n",
       "AgeAdjustedRate    float64\n",
       "CaseCount            int64\n",
       "Population           int64\n",
       "dtype: object"
      ]
     },
     "execution_count": 21,
     "metadata": {},
     "output_type": "execute_result"
    }
   ],
   "source": [
    "cancer_county.dtypes"
   ]
  },
  {
   "cell_type": "code",
   "execution_count": 23,
   "metadata": {},
   "outputs": [],
   "source": [
    "cancer_county.to_csv('cleaned_data/il_all_counties_cancer_rates.csv')"
   ]
  }
 ],
 "metadata": {
  "kernelspec": {
   "display_name": "Python [conda env:learn-env] *",
   "language": "python",
   "name": "conda-env-learn-env-py"
  },
  "language_info": {
   "codemirror_mode": {
    "name": "ipython",
    "version": 3
   },
   "file_extension": ".py",
   "mimetype": "text/x-python",
   "name": "python",
   "nbconvert_exporter": "python",
   "pygments_lexer": "ipython3",
   "version": "3.6.9"
  }
 },
 "nbformat": 4,
 "nbformat_minor": 4
}
