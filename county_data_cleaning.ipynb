{
 "cells": [
  {
   "cell_type": "markdown",
   "metadata": {},
   "source": [
    "## Cleaning Lung Disease Data for County Analysis\n",
    "In this interactive notebook, we will take a look at the process of cleaning up some of our cancer data for use in analysis by county."
   ]
  },
  {
   "cell_type": "code",
   "execution_count": 1,
   "metadata": {},
   "outputs": [],
   "source": [
    "import pandas as pd"
   ]
  },
  {
   "cell_type": "code",
   "execution_count": 2,
   "metadata": {},
   "outputs": [],
   "source": [
    "il_cancer_county = pd.read_csv('data/il_uscs_county_map.csv')\n",
    "ny_cancer_county = pd.read_csv('data/ny_uscs_county_map.csv')\n",
    "ca_cancer_county = pd.read_csv('data/ca_uscs_county_map.csv')\n",
    "ga_cancer_county = pd.read_csv('data/ga_uscs_county_map.csv')"
   ]
  },
  {
   "cell_type": "code",
   "execution_count": 3,
   "metadata": {},
   "outputs": [],
   "source": [
    "il_cancer_county.drop(columns=['lci', 'uci', 'Sex', 'Area', 'CancerType'], inplace=True)\n",
    "ny_cancer_county.drop(columns=['Area', 'Sex', 'CancerType'], inplace=True)\n",
    "ca_cancer_county.drop(columns=['Area', 'Sex', 'CancerType'], inplace=True)\n",
    "ga_cancer_county.drop(columns=['Area', 'Sex', 'CancerType'], inplace=True)"
   ]
  },
  {
   "cell_type": "code",
   "execution_count": 4,
   "metadata": {},
   "outputs": [
    {
     "data": {
      "text/html": [
       "<div>\n",
       "<style scoped>\n",
       "    .dataframe tbody tr th:only-of-type {\n",
       "        vertical-align: middle;\n",
       "    }\n",
       "\n",
       "    .dataframe tbody tr th {\n",
       "        vertical-align: top;\n",
       "    }\n",
       "\n",
       "    .dataframe thead th {\n",
       "        text-align: right;\n",
       "    }\n",
       "</style>\n",
       "<table border=\"1\" class=\"dataframe\">\n",
       "  <thead>\n",
       "    <tr style=\"text-align: right;\">\n",
       "      <th></th>\n",
       "      <th>County</th>\n",
       "      <th>Year</th>\n",
       "      <th>AgeAdjustedRate</th>\n",
       "      <th>CaseCount</th>\n",
       "      <th>Population</th>\n",
       "    </tr>\n",
       "  </thead>\n",
       "  <tbody>\n",
       "    <tr>\n",
       "      <td>0</td>\n",
       "      <td>'Kane County'</td>\n",
       "      <td>'2012-2016'</td>\n",
       "      <td>'51.2'</td>\n",
       "      <td>'1298'</td>\n",
       "      <td>'2633345'</td>\n",
       "    </tr>\n",
       "    <tr>\n",
       "      <td>1</td>\n",
       "      <td>'DuPage County'</td>\n",
       "      <td>'2012-2016'</td>\n",
       "      <td>'51.8'</td>\n",
       "      <td>'2643'</td>\n",
       "      <td>'4657275'</td>\n",
       "    </tr>\n",
       "    <tr>\n",
       "      <td>2</td>\n",
       "      <td>'Champaign County'</td>\n",
       "      <td>'2012-2016'</td>\n",
       "      <td>'52.8'</td>\n",
       "      <td>'499'</td>\n",
       "      <td>'1034430'</td>\n",
       "    </tr>\n",
       "    <tr>\n",
       "      <td>3</td>\n",
       "      <td>'Woodford County'</td>\n",
       "      <td>'2012-2016'</td>\n",
       "      <td>'54.8'</td>\n",
       "      <td>'135'</td>\n",
       "      <td>'194822'</td>\n",
       "    </tr>\n",
       "    <tr>\n",
       "      <td>4</td>\n",
       "      <td>'Stephenson County'</td>\n",
       "      <td>'2012-2016'</td>\n",
       "      <td>'52.4'</td>\n",
       "      <td>'186'</td>\n",
       "      <td>'231025'</td>\n",
       "    </tr>\n",
       "  </tbody>\n",
       "</table>\n",
       "</div>"
      ],
      "text/plain": [
       "                County         Year AgeAdjustedRate CaseCount Population\n",
       "0        'Kane County'  '2012-2016'          '51.2'    '1298'  '2633345'\n",
       "1      'DuPage County'  '2012-2016'          '51.8'    '2643'  '4657275'\n",
       "2   'Champaign County'  '2012-2016'          '52.8'     '499'  '1034430'\n",
       "3    'Woodford County'  '2012-2016'          '54.8'     '135'   '194822'\n",
       "4  'Stephenson County'  '2012-2016'          '52.4'     '186'   '231025'"
      ]
     },
     "execution_count": 4,
     "metadata": {},
     "output_type": "execute_result"
    }
   ],
   "source": [
    "il_cancer_county.head()"
   ]
  },
  {
   "cell_type": "code",
   "execution_count": 5,
   "metadata": {},
   "outputs": [
    {
     "data": {
      "text/html": [
       "<div>\n",
       "<style scoped>\n",
       "    .dataframe tbody tr th:only-of-type {\n",
       "        vertical-align: middle;\n",
       "    }\n",
       "\n",
       "    .dataframe tbody tr th {\n",
       "        vertical-align: top;\n",
       "    }\n",
       "\n",
       "    .dataframe thead th {\n",
       "        text-align: right;\n",
       "    }\n",
       "</style>\n",
       "<table border=\"1\" class=\"dataframe\">\n",
       "  <thead>\n",
       "    <tr style=\"text-align: right;\">\n",
       "      <th></th>\n",
       "      <th>County</th>\n",
       "      <th>Year</th>\n",
       "      <th>AgeAdjustedRate</th>\n",
       "      <th>CaseCount</th>\n",
       "      <th>Population</th>\n",
       "    </tr>\n",
       "  </thead>\n",
       "  <tbody>\n",
       "    <tr>\n",
       "      <td>0</td>\n",
       "      <td>'Queens County'</td>\n",
       "      <td>'2012-2016'</td>\n",
       "      <td>'43.6'</td>\n",
       "      <td>'5762'</td>\n",
       "      <td>'11622232'</td>\n",
       "    </tr>\n",
       "    <tr>\n",
       "      <td>1</td>\n",
       "      <td>'Bronx County'</td>\n",
       "      <td>'2012-2016'</td>\n",
       "      <td>'46.2'</td>\n",
       "      <td>'3194'</td>\n",
       "      <td>'7225933'</td>\n",
       "    </tr>\n",
       "    <tr>\n",
       "      <td>2</td>\n",
       "      <td>'Kings County'</td>\n",
       "      <td>'2012-2016'</td>\n",
       "      <td>'46.7'</td>\n",
       "      <td>'6208'</td>\n",
       "      <td>'13106099'</td>\n",
       "    </tr>\n",
       "    <tr>\n",
       "      <td>3</td>\n",
       "      <td>'Westchester County'</td>\n",
       "      <td>'2012-2016'</td>\n",
       "      <td>'48.4'</td>\n",
       "      <td>'2955'</td>\n",
       "      <td>'4858549'</td>\n",
       "    </tr>\n",
       "    <tr>\n",
       "      <td>4</td>\n",
       "      <td>'New York County'</td>\n",
       "      <td>'2012-2016'</td>\n",
       "      <td>'47.2'</td>\n",
       "      <td>'4514'</td>\n",
       "      <td>'8235025'</td>\n",
       "    </tr>\n",
       "  </tbody>\n",
       "</table>\n",
       "</div>"
      ],
      "text/plain": [
       "                 County         Year AgeAdjustedRate CaseCount  Population\n",
       "0       'Queens County'  '2012-2016'          '43.6'    '5762'  '11622232'\n",
       "1        'Bronx County'  '2012-2016'          '46.2'    '3194'   '7225933'\n",
       "2        'Kings County'  '2012-2016'          '46.7'    '6208'  '13106099'\n",
       "3  'Westchester County'  '2012-2016'          '48.4'    '2955'   '4858549'\n",
       "4     'New York County'  '2012-2016'          '47.2'    '4514'   '8235025'"
      ]
     },
     "execution_count": 5,
     "metadata": {},
     "output_type": "execute_result"
    }
   ],
   "source": [
    "ny_cancer_county.head()"
   ]
  },
  {
   "cell_type": "code",
   "execution_count": 6,
   "metadata": {},
   "outputs": [
    {
     "data": {
      "text/html": [
       "<div>\n",
       "<style scoped>\n",
       "    .dataframe tbody tr th:only-of-type {\n",
       "        vertical-align: middle;\n",
       "    }\n",
       "\n",
       "    .dataframe tbody tr th {\n",
       "        vertical-align: top;\n",
       "    }\n",
       "\n",
       "    .dataframe thead th {\n",
       "        text-align: right;\n",
       "    }\n",
       "</style>\n",
       "<table border=\"1\" class=\"dataframe\">\n",
       "  <thead>\n",
       "    <tr style=\"text-align: right;\">\n",
       "      <th></th>\n",
       "      <th>County</th>\n",
       "      <th>Year</th>\n",
       "      <th>AgeAdjustedRate</th>\n",
       "      <th>CaseCount</th>\n",
       "      <th>Population</th>\n",
       "    </tr>\n",
       "  </thead>\n",
       "  <tbody>\n",
       "    <tr>\n",
       "      <td>0</td>\n",
       "      <td>'Mono County'</td>\n",
       "      <td>'2012-2016'</td>\n",
       "      <td>'25.9'</td>\n",
       "      <td>'20'</td>\n",
       "      <td>'70372'</td>\n",
       "    </tr>\n",
       "    <tr>\n",
       "      <td>1</td>\n",
       "      <td>'Marin County'</td>\n",
       "      <td>'2012-2016'</td>\n",
       "      <td>'35.1'</td>\n",
       "      <td>'680'</td>\n",
       "      <td>'1299494'</td>\n",
       "    </tr>\n",
       "    <tr>\n",
       "      <td>2</td>\n",
       "      <td>'Monterey County'</td>\n",
       "      <td>'2012-2016'</td>\n",
       "      <td>'36.8'</td>\n",
       "      <td>'763'</td>\n",
       "      <td>'2154029'</td>\n",
       "    </tr>\n",
       "    <tr>\n",
       "      <td>3</td>\n",
       "      <td>'Los Angeles County'</td>\n",
       "      <td>'2012-2016'</td>\n",
       "      <td>'36.6'</td>\n",
       "      <td>'18307'</td>\n",
       "      <td>'50321257'</td>\n",
       "    </tr>\n",
       "    <tr>\n",
       "      <td>4</td>\n",
       "      <td>'Santa Cruz County'</td>\n",
       "      <td>'2012-2016'</td>\n",
       "      <td>'37.0'</td>\n",
       "      <td>'538'</td>\n",
       "      <td>'1357213'</td>\n",
       "    </tr>\n",
       "  </tbody>\n",
       "</table>\n",
       "</div>"
      ],
      "text/plain": [
       "                 County         Year AgeAdjustedRate CaseCount  Population\n",
       "0         'Mono County'  '2012-2016'          '25.9'      '20'     '70372'\n",
       "1        'Marin County'  '2012-2016'          '35.1'     '680'   '1299494'\n",
       "2     'Monterey County'  '2012-2016'          '36.8'     '763'   '2154029'\n",
       "3  'Los Angeles County'  '2012-2016'          '36.6'   '18307'  '50321257'\n",
       "4   'Santa Cruz County'  '2012-2016'          '37.0'     '538'   '1357213'"
      ]
     },
     "execution_count": 6,
     "metadata": {},
     "output_type": "execute_result"
    }
   ],
   "source": [
    "ca_cancer_county.head()"
   ]
  },
  {
   "cell_type": "code",
   "execution_count": 7,
   "metadata": {},
   "outputs": [
    {
     "data": {
      "text/html": [
       "<div>\n",
       "<style scoped>\n",
       "    .dataframe tbody tr th:only-of-type {\n",
       "        vertical-align: middle;\n",
       "    }\n",
       "\n",
       "    .dataframe tbody tr th {\n",
       "        vertical-align: top;\n",
       "    }\n",
       "\n",
       "    .dataframe thead th {\n",
       "        text-align: right;\n",
       "    }\n",
       "</style>\n",
       "<table border=\"1\" class=\"dataframe\">\n",
       "  <thead>\n",
       "    <tr style=\"text-align: right;\">\n",
       "      <th></th>\n",
       "      <th>County</th>\n",
       "      <th>Year</th>\n",
       "      <th>AgeAdjustedRate</th>\n",
       "      <th>CaseCount</th>\n",
       "      <th>Population</th>\n",
       "    </tr>\n",
       "  </thead>\n",
       "  <tbody>\n",
       "    <tr>\n",
       "      <td>0</td>\n",
       "      <td>'Fayette County'</td>\n",
       "      <td>'2012-2016'</td>\n",
       "      <td>'45.5'</td>\n",
       "      <td>'311'</td>\n",
       "      <td>'546383'</td>\n",
       "    </tr>\n",
       "    <tr>\n",
       "      <td>1</td>\n",
       "      <td>'Calhoun County'</td>\n",
       "      <td>'2012-2016'</td>\n",
       "      <td>'47.2'</td>\n",
       "      <td>'18'</td>\n",
       "      <td>'32626'</td>\n",
       "    </tr>\n",
       "    <tr>\n",
       "      <td>2</td>\n",
       "      <td>'Hancock County'</td>\n",
       "      <td>'2012-2016'</td>\n",
       "      <td>'48.8'</td>\n",
       "      <td>'34'</td>\n",
       "      <td>'43857'</td>\n",
       "    </tr>\n",
       "    <tr>\n",
       "      <td>3</td>\n",
       "      <td>'DeKalb County'</td>\n",
       "      <td>'2012-2016'</td>\n",
       "      <td>'48.7'</td>\n",
       "      <td>'1615'</td>\n",
       "      <td>'3637680'</td>\n",
       "    </tr>\n",
       "    <tr>\n",
       "      <td>4</td>\n",
       "      <td>'Gwinnett County'</td>\n",
       "      <td>'2012-2016'</td>\n",
       "      <td>'49.0'</td>\n",
       "      <td>'1599'</td>\n",
       "      <td>'4368652'</td>\n",
       "    </tr>\n",
       "  </tbody>\n",
       "</table>\n",
       "</div>"
      ],
      "text/plain": [
       "              County         Year AgeAdjustedRate CaseCount Population\n",
       "0   'Fayette County'  '2012-2016'          '45.5'     '311'   '546383'\n",
       "1   'Calhoun County'  '2012-2016'          '47.2'      '18'    '32626'\n",
       "2   'Hancock County'  '2012-2016'          '48.8'      '34'    '43857'\n",
       "3    'DeKalb County'  '2012-2016'          '48.7'    '1615'  '3637680'\n",
       "4  'Gwinnett County'  '2012-2016'          '49.0'    '1599'  '4368652'"
      ]
     },
     "execution_count": 7,
     "metadata": {},
     "output_type": "execute_result"
    }
   ],
   "source": [
    "ga_cancer_county.head()"
   ]
  },
  {
   "cell_type": "code",
   "execution_count": 8,
   "metadata": {},
   "outputs": [],
   "source": [
    "str_trim = lambda s: s[1:-1]\n",
    "il_cancer_county = il_cancer_county.applymap(str_trim)\n",
    "ny_cancer_county = ny_cancer_county.applymap(str_trim)\n",
    "ca_cancer_county = ca_cancer_county.applymap(str_trim)\n",
    "ga_cancer_county = ga_cancer_county.applymap(str_trim)"
   ]
  },
  {
   "cell_type": "code",
   "execution_count": 9,
   "metadata": {},
   "outputs": [],
   "source": [
    "il_cancer_county.AgeAdjustedRate = il_cancer_county.AgeAdjustedRate.astype(float)\n",
    "il_cancer_county.CaseCount = il_cancer_county.CaseCount.astype(int)\n",
    "il_cancer_county.Population = il_cancer_county.Population.astype(int)\n",
    "il_cancer_county.County = il_cancer_county.County.apply(lambda s: s.replace(' County', ''))"
   ]
  },
  {
   "cell_type": "code",
   "execution_count": 10,
   "metadata": {},
   "outputs": [
    {
     "data": {
      "text/html": [
       "<div>\n",
       "<style scoped>\n",
       "    .dataframe tbody tr th:only-of-type {\n",
       "        vertical-align: middle;\n",
       "    }\n",
       "\n",
       "    .dataframe tbody tr th {\n",
       "        vertical-align: top;\n",
       "    }\n",
       "\n",
       "    .dataframe thead th {\n",
       "        text-align: right;\n",
       "    }\n",
       "</style>\n",
       "<table border=\"1\" class=\"dataframe\">\n",
       "  <thead>\n",
       "    <tr style=\"text-align: right;\">\n",
       "      <th></th>\n",
       "      <th>County</th>\n",
       "      <th>Year</th>\n",
       "      <th>AgeAdjustedRate</th>\n",
       "      <th>CaseCount</th>\n",
       "      <th>Population</th>\n",
       "    </tr>\n",
       "  </thead>\n",
       "  <tbody>\n",
       "    <tr>\n",
       "      <td>0</td>\n",
       "      <td>Kane</td>\n",
       "      <td>2012-2016</td>\n",
       "      <td>51.2</td>\n",
       "      <td>1298</td>\n",
       "      <td>2633345</td>\n",
       "    </tr>\n",
       "    <tr>\n",
       "      <td>1</td>\n",
       "      <td>DuPage</td>\n",
       "      <td>2012-2016</td>\n",
       "      <td>51.8</td>\n",
       "      <td>2643</td>\n",
       "      <td>4657275</td>\n",
       "    </tr>\n",
       "    <tr>\n",
       "      <td>2</td>\n",
       "      <td>Champaign</td>\n",
       "      <td>2012-2016</td>\n",
       "      <td>52.8</td>\n",
       "      <td>499</td>\n",
       "      <td>1034430</td>\n",
       "    </tr>\n",
       "    <tr>\n",
       "      <td>3</td>\n",
       "      <td>Woodford</td>\n",
       "      <td>2012-2016</td>\n",
       "      <td>54.8</td>\n",
       "      <td>135</td>\n",
       "      <td>194822</td>\n",
       "    </tr>\n",
       "    <tr>\n",
       "      <td>4</td>\n",
       "      <td>Stephenson</td>\n",
       "      <td>2012-2016</td>\n",
       "      <td>52.4</td>\n",
       "      <td>186</td>\n",
       "      <td>231025</td>\n",
       "    </tr>\n",
       "  </tbody>\n",
       "</table>\n",
       "</div>"
      ],
      "text/plain": [
       "       County       Year  AgeAdjustedRate  CaseCount  Population\n",
       "0        Kane  2012-2016             51.2       1298     2633345\n",
       "1      DuPage  2012-2016             51.8       2643     4657275\n",
       "2   Champaign  2012-2016             52.8        499     1034430\n",
       "3    Woodford  2012-2016             54.8        135      194822\n",
       "4  Stephenson  2012-2016             52.4        186      231025"
      ]
     },
     "execution_count": 10,
     "metadata": {},
     "output_type": "execute_result"
    }
   ],
   "source": [
    "il_cancer_county.head()"
   ]
  },
  {
   "cell_type": "code",
   "execution_count": 11,
   "metadata": {},
   "outputs": [],
   "source": [
    "ny_cancer_county.AgeAdjustedRate = ny_cancer_county.AgeAdjustedRate.astype(float)\n",
    "ny_cancer_county.CaseCount = ny_cancer_county.CaseCount.astype(int)\n",
    "ny_cancer_county.Population = ny_cancer_county.Population.astype(int)\n",
    "ny_cancer_county.County = ny_cancer_county.County.apply(lambda s: s.replace(' County', ''))"
   ]
  },
  {
   "cell_type": "code",
   "execution_count": 12,
   "metadata": {},
   "outputs": [
    {
     "data": {
      "text/html": [
       "<div>\n",
       "<style scoped>\n",
       "    .dataframe tbody tr th:only-of-type {\n",
       "        vertical-align: middle;\n",
       "    }\n",
       "\n",
       "    .dataframe tbody tr th {\n",
       "        vertical-align: top;\n",
       "    }\n",
       "\n",
       "    .dataframe thead th {\n",
       "        text-align: right;\n",
       "    }\n",
       "</style>\n",
       "<table border=\"1\" class=\"dataframe\">\n",
       "  <thead>\n",
       "    <tr style=\"text-align: right;\">\n",
       "      <th></th>\n",
       "      <th>County</th>\n",
       "      <th>Year</th>\n",
       "      <th>AgeAdjustedRate</th>\n",
       "      <th>CaseCount</th>\n",
       "      <th>Population</th>\n",
       "    </tr>\n",
       "  </thead>\n",
       "  <tbody>\n",
       "    <tr>\n",
       "      <td>0</td>\n",
       "      <td>Queens</td>\n",
       "      <td>2012-2016</td>\n",
       "      <td>43.6</td>\n",
       "      <td>5762</td>\n",
       "      <td>11622232</td>\n",
       "    </tr>\n",
       "    <tr>\n",
       "      <td>1</td>\n",
       "      <td>Bronx</td>\n",
       "      <td>2012-2016</td>\n",
       "      <td>46.2</td>\n",
       "      <td>3194</td>\n",
       "      <td>7225933</td>\n",
       "    </tr>\n",
       "    <tr>\n",
       "      <td>2</td>\n",
       "      <td>Kings</td>\n",
       "      <td>2012-2016</td>\n",
       "      <td>46.7</td>\n",
       "      <td>6208</td>\n",
       "      <td>13106099</td>\n",
       "    </tr>\n",
       "    <tr>\n",
       "      <td>3</td>\n",
       "      <td>Westchester</td>\n",
       "      <td>2012-2016</td>\n",
       "      <td>48.4</td>\n",
       "      <td>2955</td>\n",
       "      <td>4858549</td>\n",
       "    </tr>\n",
       "    <tr>\n",
       "      <td>4</td>\n",
       "      <td>New York</td>\n",
       "      <td>2012-2016</td>\n",
       "      <td>47.2</td>\n",
       "      <td>4514</td>\n",
       "      <td>8235025</td>\n",
       "    </tr>\n",
       "  </tbody>\n",
       "</table>\n",
       "</div>"
      ],
      "text/plain": [
       "        County       Year  AgeAdjustedRate  CaseCount  Population\n",
       "0       Queens  2012-2016             43.6       5762    11622232\n",
       "1        Bronx  2012-2016             46.2       3194     7225933\n",
       "2        Kings  2012-2016             46.7       6208    13106099\n",
       "3  Westchester  2012-2016             48.4       2955     4858549\n",
       "4     New York  2012-2016             47.2       4514     8235025"
      ]
     },
     "execution_count": 12,
     "metadata": {},
     "output_type": "execute_result"
    }
   ],
   "source": [
    "ny_cancer_county.head()"
   ]
  },
  {
   "cell_type": "code",
   "execution_count": 13,
   "metadata": {},
   "outputs": [],
   "source": [
    "ca_cancer_county = ca_cancer_county.loc[ca_cancer_county.AgeAdjustedRate != 'Data Suppressed']\n",
    "ca_cancer_county.AgeAdjustedRate = ca_cancer_county.AgeAdjustedRate.astype(float)\n",
    "ca_cancer_county.CaseCount = ca_cancer_county.CaseCount.astype(int)\n",
    "ca_cancer_county.Population = ca_cancer_county.Population.astype(int)\n",
    "ca_cancer_county.County = ca_cancer_county.County.apply(lambda s: s.replace(' County', ''))"
   ]
  },
  {
   "cell_type": "code",
   "execution_count": 14,
   "metadata": {},
   "outputs": [
    {
     "data": {
      "text/html": [
       "<div>\n",
       "<style scoped>\n",
       "    .dataframe tbody tr th:only-of-type {\n",
       "        vertical-align: middle;\n",
       "    }\n",
       "\n",
       "    .dataframe tbody tr th {\n",
       "        vertical-align: top;\n",
       "    }\n",
       "\n",
       "    .dataframe thead th {\n",
       "        text-align: right;\n",
       "    }\n",
       "</style>\n",
       "<table border=\"1\" class=\"dataframe\">\n",
       "  <thead>\n",
       "    <tr style=\"text-align: right;\">\n",
       "      <th></th>\n",
       "      <th>County</th>\n",
       "      <th>Year</th>\n",
       "      <th>AgeAdjustedRate</th>\n",
       "      <th>CaseCount</th>\n",
       "      <th>Population</th>\n",
       "    </tr>\n",
       "  </thead>\n",
       "  <tbody>\n",
       "    <tr>\n",
       "      <td>0</td>\n",
       "      <td>Mono</td>\n",
       "      <td>2012-2016</td>\n",
       "      <td>25.9</td>\n",
       "      <td>20</td>\n",
       "      <td>70372</td>\n",
       "    </tr>\n",
       "    <tr>\n",
       "      <td>1</td>\n",
       "      <td>Marin</td>\n",
       "      <td>2012-2016</td>\n",
       "      <td>35.1</td>\n",
       "      <td>680</td>\n",
       "      <td>1299494</td>\n",
       "    </tr>\n",
       "    <tr>\n",
       "      <td>2</td>\n",
       "      <td>Monterey</td>\n",
       "      <td>2012-2016</td>\n",
       "      <td>36.8</td>\n",
       "      <td>763</td>\n",
       "      <td>2154029</td>\n",
       "    </tr>\n",
       "    <tr>\n",
       "      <td>3</td>\n",
       "      <td>Los Angeles</td>\n",
       "      <td>2012-2016</td>\n",
       "      <td>36.6</td>\n",
       "      <td>18307</td>\n",
       "      <td>50321257</td>\n",
       "    </tr>\n",
       "    <tr>\n",
       "      <td>4</td>\n",
       "      <td>Santa Cruz</td>\n",
       "      <td>2012-2016</td>\n",
       "      <td>37.0</td>\n",
       "      <td>538</td>\n",
       "      <td>1357213</td>\n",
       "    </tr>\n",
       "  </tbody>\n",
       "</table>\n",
       "</div>"
      ],
      "text/plain": [
       "        County       Year  AgeAdjustedRate  CaseCount  Population\n",
       "0         Mono  2012-2016             25.9         20       70372\n",
       "1        Marin  2012-2016             35.1        680     1299494\n",
       "2     Monterey  2012-2016             36.8        763     2154029\n",
       "3  Los Angeles  2012-2016             36.6      18307    50321257\n",
       "4   Santa Cruz  2012-2016             37.0        538     1357213"
      ]
     },
     "execution_count": 14,
     "metadata": {},
     "output_type": "execute_result"
    }
   ],
   "source": [
    "ca_cancer_county.head()"
   ]
  },
  {
   "cell_type": "code",
   "execution_count": 15,
   "metadata": {},
   "outputs": [],
   "source": [
    "ga_cancer_county = ga_cancer_county.loc[ga_cancer_county.AgeAdjustedRate != 'Data Suppressed']\n",
    "ga_cancer_county.AgeAdjustedRate = ga_cancer_county.AgeAdjustedRate.astype(float)\n",
    "ga_cancer_county.CaseCount = ga_cancer_county.CaseCount.astype(int)\n",
    "ga_cancer_county.Population = ga_cancer_county.Population.astype(int)\n",
    "ga_cancer_county.County = ga_cancer_county.County.apply(lambda s: s.replace(' County', ''))"
   ]
  },
  {
   "cell_type": "code",
   "execution_count": 16,
   "metadata": {},
   "outputs": [
    {
     "name": "stdout",
     "output_type": "stream",
     "text": [
      "(102, 5)\n",
      "(62, 5)\n",
      "(56, 5)\n",
      "(155, 5)\n"
     ]
    }
   ],
   "source": [
    "print(il_cancer_county.shape)\n",
    "print(ny_cancer_county.shape)\n",
    "print(ca_cancer_county.shape)\n",
    "print(ga_cancer_county.shape)"
   ]
  },
  {
   "cell_type": "code",
   "execution_count": 17,
   "metadata": {},
   "outputs": [
    {
     "data": {
      "text/plain": [
       "County              object\n",
       "Year                object\n",
       "AgeAdjustedRate    float64\n",
       "CaseCount            int64\n",
       "Population           int64\n",
       "dtype: object"
      ]
     },
     "execution_count": 17,
     "metadata": {},
     "output_type": "execute_result"
    }
   ],
   "source": [
    "il_cancer_county.dtypes"
   ]
  },
  {
   "cell_type": "code",
   "execution_count": 23,
   "metadata": {},
   "outputs": [],
   "source": [
    "il_cancer_county.to_csv('cleaned_data/il_all_counties_cancer_rates.csv')\n",
    "ny_cancer_county.to_csv('cleaned_data/ny_all_counties_cancer_rates.csv')\n",
    "ca_cancer_county.to_csv('cleaned_data/ca_all_counties_cancer_rates.csv')\n",
    "ga_cancer_county.to_csv('cleaned_data/ga_all_counties_cancer_rates.csv')"
   ]
  }
 ],
 "metadata": {
  "kernelspec": {
   "display_name": "Python [conda env:learn-env] *",
   "language": "python",
   "name": "conda-env-learn-env-py"
  },
  "language_info": {
   "codemirror_mode": {
    "name": "ipython",
    "version": 3
   },
   "file_extension": ".py",
   "mimetype": "text/x-python",
   "name": "python",
   "nbconvert_exporter": "python",
   "pygments_lexer": "ipython3",
   "version": "3.6.9"
  }
 },
 "nbformat": 4,
 "nbformat_minor": 4
}
